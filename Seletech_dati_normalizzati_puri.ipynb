{
  "nbformat": 4,
  "nbformat_minor": 0,
  "metadata": {
    "colab": {
      "name": "Seletech-dati-normalizzati-puri.ipynb",
      "provenance": [],
      "collapsed_sections": [],
      "include_colab_link": true
    },
    "kernelspec": {
      "name": "python3",
      "display_name": "Python 3"
    },
    "accelerator": "GPU"
  },
  "cells": [
    {
      "cell_type": "markdown",
      "metadata": {
        "id": "view-in-github",
        "colab_type": "text"
      },
      "source": [
        "<a href=\"https://colab.research.google.com/github/dtegegn/deepdream/blob/master/Seletech_dati_normalizzati_puri.ipynb\" target=\"_parent\"><img src=\"https://colab.research.google.com/assets/colab-badge.svg\" alt=\"Open In Colab\"/></a>"
      ]
    },
    {
      "cell_type": "markdown",
      "metadata": {
        "id": "JKMejpdTMs0f",
        "colab_type": "text"
      },
      "source": [
        "<h1> Seletech classificazione dati normalizzati di materiali puri</h1>\n",
        "\n"
      ]
    },
    {
      "cell_type": "markdown",
      "metadata": {
        "id": "ACJUKr2uNJoe",
        "colab_type": "text"
      },
      "source": [
        "# Import Google Drive"
      ]
    },
    {
      "cell_type": "code",
      "metadata": {
        "id": "HSu4bYQH25NV",
        "colab_type": "code",
        "colab": {}
      },
      "source": [
        "!pip install tensorflow==2\n",
        "!pip install tqdm"
      ],
      "execution_count": 0,
      "outputs": []
    },
    {
      "cell_type": "code",
      "metadata": {
        "id": "9ZmwPTfE1vxb",
        "colab_type": "code",
        "outputId": "ae64853f-d65c-4abe-fe93-a549e918d745",
        "colab": {
          "base_uri": "https://localhost:8080/",
          "height": 34
        }
      },
      "source": [
        "from google.colab import drive\n",
        "drive.mount('/content/drive')"
      ],
      "execution_count": 1,
      "outputs": [
        {
          "output_type": "stream",
          "text": [
            "Drive already mounted at /content/drive; to attempt to forcibly remount, call drive.mount(\"/content/drive\", force_remount=True).\n"
          ],
          "name": "stdout"
        }
      ]
    },
    {
      "cell_type": "markdown",
      "metadata": {
        "id": "8jfSXSAbNRcS",
        "colab_type": "text"
      },
      "source": [
        "# Import libraries"
      ]
    },
    {
      "cell_type": "code",
      "metadata": {
        "id": "hhi5SzwRNByy",
        "colab_type": "code",
        "colab": {}
      },
      "source": [
        "import pandas as pd\n",
        "import numpy as np \n",
        "\n",
        "from keras import optimizers \n",
        "#from keras.models import Sequential \n",
        "#from keras.layers import Dense\n",
        "from tensorflow.python.keras.layers import Dense\n",
        "from tensorflow.python.keras import Sequential\n",
        "from keras.utils import np_utils\n",
        "\n",
        "from sklearn.model_selection import cross_val_score \n",
        "from sklearn.model_selection import KFold \n",
        "from sklearn.preprocessing import LabelEncoder \n",
        "from sklearn.pipeline import Pipeline \n",
        "import matplotlib.pylab as plt \n",
        "from sklearn.model_selection import train_test_split \n",
        "\n",
        "from keras.wrappers.scikit_learn import KerasClassifier\n",
        "from sklearn.model_selection import GridSearchCV\n",
        "\n",
        "from tqdm import tqdm\n",
        "import time\n",
        "\n",
        "import tensorflow as tf \n",
        "\n"
      ],
      "execution_count": 0,
      "outputs": []
    },
    {
      "cell_type": "markdown",
      "metadata": {
        "id": "ck3-67XIecli",
        "colab_type": "text"
      },
      "source": [
        "# Load Dataset"
      ]
    },
    {
      "cell_type": "code",
      "metadata": {
        "id": "nIH0k9xSNMiR",
        "colab_type": "code",
        "outputId": "0f41110d-fbe4-4183-97c5-c017359b36af",
        "colab": {
          "base_uri": "https://localhost:8080/",
          "height": 34
        }
      },
      "source": [
        "# load dataset\n",
        "dataframe = pd.read_csv(\"/content/drive/My Drive/Seletech/table/tablePureNormMaterial.csv\", header=None)\n",
        "dataset = dataframe.values\n",
        "X = dataset[:,0:702].astype(float)\n",
        "Y = dataset[:,702]\n",
        "print(dataset.shape)"
      ],
      "execution_count": 23,
      "outputs": [
        {
          "output_type": "stream",
          "text": [
            "(7200, 703)\n"
          ],
          "name": "stdout"
        }
      ]
    },
    {
      "cell_type": "markdown",
      "metadata": {
        "id": "hc_WfxOKehQC",
        "colab_type": "text"
      },
      "source": [
        "## Split dataset"
      ]
    },
    {
      "cell_type": "code",
      "metadata": {
        "id": "FGpHAjwcQEsV",
        "colab_type": "code",
        "outputId": "7da7e1f2-e4f4-4c2d-b789-b6a86e87c807",
        "colab": {
          "base_uri": "https://localhost:8080/",
          "height": 238
        }
      },
      "source": [
        "print(X.shape)\n",
        "print(Y.shape)\n",
        "print(np.unique(Y))\n",
        "\n",
        "X_train, X_test, y_train, y_test = train_test_split(X, Y,test_size=0.2)\n",
        "\n",
        "print(\"\\nX_train:\\n\")\n",
        "print(X_train.shape)\n",
        "print(y_train.shape)\n",
        "print(\"\\nX_test:\\n\")\n",
        "print(X_test.shape)\n"
      ],
      "execution_count": 4,
      "outputs": [
        {
          "output_type": "stream",
          "text": [
            "(7200, 702)\n",
            "(7200,)\n",
            "['BabyMilk' 'Cocoa' 'CornFlour' 'CornStarch' 'PotatoStarch' 'RiceStarch'\n",
            " 'Sugar' 'WheatStarch']\n",
            "\n",
            "X_train:\n",
            "\n",
            "(5760, 702)\n",
            "(5760,)\n",
            "\n",
            "X_test:\n",
            "\n",
            "(1440, 702)\n"
          ],
          "name": "stdout"
        }
      ]
    },
    {
      "cell_type": "code",
      "metadata": {
        "id": "dVR4Ve4VTZnt",
        "colab_type": "code",
        "outputId": "fa2eecaa-3bb8-4ba5-ad32-eb8ecfda6244",
        "colab": {
          "base_uri": "https://localhost:8080/",
          "height": 34
        }
      },
      "source": [
        "# encode class values as integers\n",
        "encoder = LabelEncoder()\n",
        "encoder.fit(y_train)\n",
        "encoded_Y = encoder.transform(y_train)\n",
        "# convert integers to dummy variables (i.e. one hot encoded)\n",
        "dummy_y = np_utils.to_categorical(encoded_Y)\n",
        "\n",
        "print(dummy_y.shape)"
      ],
      "execution_count": 5,
      "outputs": [
        {
          "output_type": "stream",
          "text": [
            "(5760, 8)\n"
          ],
          "name": "stdout"
        }
      ]
    },
    {
      "cell_type": "code",
      "metadata": {
        "id": "T4xU5ubE7iHw",
        "colab_type": "code",
        "outputId": "7105af86-14e5-4b75-bf59-f78330e98758",
        "colab": {
          "base_uri": "https://localhost:8080/",
          "height": 34
        }
      },
      "source": [
        "# encode class values as integers\n",
        "encoder = LabelEncoder()\n",
        "encoder.fit(y_test)\n",
        "encoded_Y = encoder.transform(y_test)\n",
        "# convert integers to dummy variables (i.e. one hot encoded)\n",
        "dummy_y_test = np_utils.to_categorical(encoded_Y)\n",
        "\n",
        "print(dummy_y_test.shape)"
      ],
      "execution_count": 6,
      "outputs": [
        {
          "output_type": "stream",
          "text": [
            "(1440, 8)\n"
          ],
          "name": "stdout"
        }
      ]
    },
    {
      "cell_type": "markdown",
      "metadata": {
        "id": "JCyc1JAFgdHe",
        "colab_type": "text"
      },
      "source": [
        "# Grid Search"
      ]
    },
    {
      "cell_type": "code",
      "metadata": {
        "id": "nXg9K6YagjJw",
        "colab_type": "code",
        "colab": {}
      },
      "source": [
        "# Function to create model, required for KerasClassifier\n",
        "def create_model(optimizer='rmsprop', init='glorot_uniform'):\n",
        "\t# create model\n",
        "\tgrid_model = Sequential()\n",
        "\tgrid_model.add(Dense(8, input_dim=702, kernel_initializer=init, activation='relu'))\n",
        "\tgrid_model.add(Dense(256, kernel_initializer=init, activation='relu'))\n",
        "\tgrid_model.add(Dense(8, kernel_initializer=init, activation='softmax'))\n",
        "\t# Compile model\n",
        "\tgrid_model.compile(loss='categorical_crossentropy', optimizer=optimizer, metrics=['acc'])\n",
        "\treturn grid_model"
      ],
      "execution_count": 0,
      "outputs": []
    },
    {
      "cell_type": "code",
      "metadata": {
        "id": "F5l3VJjEgcZh",
        "colab_type": "code",
        "colab": {
          "base_uri": "https://localhost:8080/",
          "height": 986
        },
        "outputId": "10bee350-ee0f-47c8-ffd2-eac381cf206a"
      },
      "source": [
        " # fix random seed for reproducibility\n",
        "seed = 7\n",
        "np.random.seed(seed)\n",
        "\n",
        "# create model\n",
        "grid_model = KerasClassifier(build_fn=create_model, verbose=0)\n",
        "# grid search epochs, batch size and optimizer\n",
        "optimizers = ['rmsprop', 'adam']\n",
        "init = ['glorot_uniform', 'normal', 'uniform']\n",
        "epochs = [50, 100, 150]\n",
        "batches = [5, 10, 20]\n",
        "param_grid = dict(optimizer=optimizers, epochs=epochs, batch_size=batches, init=init)\n",
        "grid = GridSearchCV(estimator=grid_model, param_grid=param_grid, n_jobs=-1, cv=5)\n",
        "grid_result = grid.fit(X_train,y_train)\n",
        "# summarize results\n",
        "print(\"Best: %f using %s\" % (grid_result.best_score_, grid_result.best_params_))\n",
        "means = grid_result.cv_results_['mean_test_score']\n",
        "stds = grid_result.cv_results_['std_test_score']\n",
        "params = grid_result.cv_results_['params']\n",
        "\n",
        "for mean, stdev, param in zip(means, stds, params):\n",
        "\tprint(\"%f (%f) with: %r\" % (mean, stdev, param))"
      ],
      "execution_count": 39,
      "outputs": [
        {
          "output_type": "stream",
          "text": [
            "/usr/local/lib/python3.6/dist-packages/sklearn/model_selection/_split.py:1978: FutureWarning: The default value of cv will change from 3 to 5 in version 0.22. Specify it explicitly to silence this warning.\n",
            "  warnings.warn(CV_WARNING, FutureWarning)\n"
          ],
          "name": "stderr"
        },
        {
          "output_type": "stream",
          "text": [
            "Best: 0.953646 using {'batch_size': 5, 'epochs': 150, 'init': 'normal', 'optimizer': 'adam'}\n",
            "0.118403 (0.001299) with: {'batch_size': 5, 'epochs': 50, 'init': 'glorot_uniform', 'optimizer': 'rmsprop'}\n",
            "0.891319 (0.044845) with: {'batch_size': 5, 'epochs': 50, 'init': 'glorot_uniform', 'optimizer': 'adam'}\n",
            "0.773264 (0.097702) with: {'batch_size': 5, 'epochs': 50, 'init': 'normal', 'optimizer': 'rmsprop'}\n",
            "0.644097 (0.370742) with: {'batch_size': 5, 'epochs': 50, 'init': 'normal', 'optimizer': 'adam'}\n",
            "0.391840 (0.386947) with: {'batch_size': 5, 'epochs': 50, 'init': 'uniform', 'optimizer': 'rmsprop'}\n",
            "0.392014 (0.387192) with: {'batch_size': 5, 'epochs': 50, 'init': 'uniform', 'optimizer': 'adam'}\n",
            "0.332639 (0.303959) with: {'batch_size': 5, 'epochs': 100, 'init': 'glorot_uniform', 'optimizer': 'rmsprop'}\n",
            "0.639931 (0.370293) with: {'batch_size': 5, 'epochs': 100, 'init': 'glorot_uniform', 'optimizer': 'adam'}\n",
            "0.344444 (0.320654) with: {'batch_size': 5, 'epochs': 100, 'init': 'normal', 'optimizer': 'rmsprop'}\n",
            "0.922743 (0.035743) with: {'batch_size': 5, 'epochs': 100, 'init': 'normal', 'optimizer': 'adam'}\n",
            "0.390278 (0.383262) with: {'batch_size': 5, 'epochs': 100, 'init': 'uniform', 'optimizer': 'rmsprop'}\n",
            "0.677431 (0.395074) with: {'batch_size': 5, 'epochs': 100, 'init': 'uniform', 'optimizer': 'adam'}\n",
            "0.382118 (0.373933) with: {'batch_size': 5, 'epochs': 150, 'init': 'glorot_uniform', 'optimizer': 'rmsprop'}\n",
            "0.384028 (0.374423) with: {'batch_size': 5, 'epochs': 150, 'init': 'glorot_uniform', 'optimizer': 'adam'}\n",
            "0.626562 (0.363500) with: {'batch_size': 5, 'epochs': 150, 'init': 'normal', 'optimizer': 'rmsprop'}\n",
            "0.953646 (0.015934) with: {'batch_size': 5, 'epochs': 150, 'init': 'normal', 'optimizer': 'adam'}\n",
            "0.669792 (0.391211) with: {'batch_size': 5, 'epochs': 150, 'init': 'uniform', 'optimizer': 'rmsprop'}\n",
            "0.910243 (0.021827) with: {'batch_size': 5, 'epochs': 150, 'init': 'uniform', 'optimizer': 'adam'}\n",
            "0.323958 (0.289472) with: {'batch_size': 10, 'epochs': 50, 'init': 'glorot_uniform', 'optimizer': 'rmsprop'}\n",
            "0.590799 (0.347418) with: {'batch_size': 10, 'epochs': 50, 'init': 'glorot_uniform', 'optimizer': 'adam'}\n",
            "0.535590 (0.294757) with: {'batch_size': 10, 'epochs': 50, 'init': 'normal', 'optimizer': 'rmsprop'}\n",
            "0.822222 (0.058809) with: {'batch_size': 10, 'epochs': 50, 'init': 'normal', 'optimizer': 'adam'}\n",
            "0.802951 (0.090687) with: {'batch_size': 10, 'epochs': 50, 'init': 'uniform', 'optimizer': 'rmsprop'}\n",
            "0.907813 (0.068189) with: {'batch_size': 10, 'epochs': 50, 'init': 'uniform', 'optimizer': 'adam'}\n",
            "0.463368 (0.280043) with: {'batch_size': 10, 'epochs': 100, 'init': 'glorot_uniform', 'optimizer': 'rmsprop'}\n",
            "0.896007 (0.028315) with: {'batch_size': 10, 'epochs': 100, 'init': 'glorot_uniform', 'optimizer': 'adam'}\n",
            "0.878472 (0.076283) with: {'batch_size': 10, 'epochs': 100, 'init': 'normal', 'optimizer': 'rmsprop'}\n",
            "0.865972 (0.089207) with: {'batch_size': 10, 'epochs': 100, 'init': 'normal', 'optimizer': 'adam'}\n",
            "0.913368 (0.040759) with: {'batch_size': 10, 'epochs': 100, 'init': 'uniform', 'optimizer': 'rmsprop'}\n",
            "0.668229 (0.390023) with: {'batch_size': 10, 'epochs': 100, 'init': 'uniform', 'optimizer': 'adam'}\n",
            "0.751736 (0.125855) with: {'batch_size': 10, 'epochs': 150, 'init': 'glorot_uniform', 'optimizer': 'rmsprop'}\n",
            "0.397569 (0.395049) with: {'batch_size': 10, 'epochs': 150, 'init': 'glorot_uniform', 'optimizer': 'adam'}\n",
            "0.664236 (0.386073) with: {'batch_size': 10, 'epochs': 150, 'init': 'normal', 'optimizer': 'rmsprop'}\n",
            "0.928472 (0.025149) with: {'batch_size': 10, 'epochs': 150, 'init': 'normal', 'optimizer': 'adam'}\n",
            "0.118403 (0.001299) with: {'batch_size': 10, 'epochs': 150, 'init': 'uniform', 'optimizer': 'rmsprop'}\n",
            "0.667361 (0.387283) with: {'batch_size': 10, 'epochs': 150, 'init': 'uniform', 'optimizer': 'adam'}\n",
            "0.355729 (0.336613) with: {'batch_size': 20, 'epochs': 50, 'init': 'glorot_uniform', 'optimizer': 'rmsprop'}\n",
            "0.646875 (0.373310) with: {'batch_size': 20, 'epochs': 50, 'init': 'glorot_uniform', 'optimizer': 'adam'}\n",
            "0.885069 (0.009756) with: {'batch_size': 20, 'epochs': 50, 'init': 'normal', 'optimizer': 'rmsprop'}\n",
            "0.640104 (0.367917) with: {'batch_size': 20, 'epochs': 50, 'init': 'normal', 'optimizer': 'adam'}\n",
            "0.290104 (0.241595) with: {'batch_size': 20, 'epochs': 50, 'init': 'uniform', 'optimizer': 'rmsprop'}\n",
            "0.914410 (0.011173) with: {'batch_size': 20, 'epochs': 50, 'init': 'uniform', 'optimizer': 'adam'}\n",
            "0.667535 (0.387318) with: {'batch_size': 20, 'epochs': 100, 'init': 'glorot_uniform', 'optimizer': 'rmsprop'}\n",
            "0.924479 (0.024210) with: {'batch_size': 20, 'epochs': 100, 'init': 'glorot_uniform', 'optimizer': 'adam'}\n",
            "0.737847 (0.138393) with: {'batch_size': 20, 'epochs': 100, 'init': 'normal', 'optimizer': 'rmsprop'}\n",
            "0.673438 (0.392482) with: {'batch_size': 20, 'epochs': 100, 'init': 'normal', 'optimizer': 'adam'}\n",
            "0.609028 (0.351934) with: {'batch_size': 20, 'epochs': 100, 'init': 'uniform', 'optimizer': 'rmsprop'}\n",
            "0.933681 (0.018703) with: {'batch_size': 20, 'epochs': 100, 'init': 'uniform', 'optimizer': 'adam'}\n",
            "0.389236 (0.383999) with: {'batch_size': 20, 'epochs': 150, 'init': 'glorot_uniform', 'optimizer': 'rmsprop'}\n",
            "0.939236 (0.015341) with: {'batch_size': 20, 'epochs': 150, 'init': 'glorot_uniform', 'optimizer': 'adam'}\n",
            "0.610069 (0.347075) with: {'batch_size': 20, 'epochs': 150, 'init': 'normal', 'optimizer': 'rmsprop'}\n",
            "0.932118 (0.022997) with: {'batch_size': 20, 'epochs': 150, 'init': 'normal', 'optimizer': 'adam'}\n",
            "0.626910 (0.362856) with: {'batch_size': 20, 'epochs': 150, 'init': 'uniform', 'optimizer': 'rmsprop'}\n",
            "0.945660 (0.015382) with: {'batch_size': 20, 'epochs': 150, 'init': 'uniform', 'optimizer': 'adam'}\n"
          ],
          "name": "stdout"
        }
      ]
    },
    {
      "cell_type": "code",
      "metadata": {
        "id": "t4y04cM-EZYF",
        "colab_type": "code",
        "colab": {
          "base_uri": "https://localhost:8080/",
          "height": 374
        },
        "outputId": "7127184d-fdd8-4d55-bae9-e9a2ff4ebf99"
      },
      "source": [
        "from sklearn.metrics import classification_report,confusion_matrix\n",
        "print(\"Detailed classification report:\")\n",
        "print()\n",
        "print(\"The model is trained on the full development set.\")\n",
        "print(\"The scores are computed on the full evaluation set.\")\n",
        "print()\n",
        "y_true, y_pred = y_test, grid.predict(X_test)\n",
        "print(classification_report(y_true, y_pred))\n",
        "print()"
      ],
      "execution_count": 43,
      "outputs": [
        {
          "output_type": "stream",
          "text": [
            "Detailed classification report:\n",
            "\n",
            "The model is trained on the full development set.\n",
            "The scores are computed on the full evaluation set.\n",
            "\n",
            "              precision    recall  f1-score   support\n",
            "\n",
            "    BabyMilk       0.97      1.00      0.98       179\n",
            "       Cocoa       1.00      1.00      1.00       182\n",
            "   CornFlour       1.00      0.97      0.98       186\n",
            "  CornStarch       0.87      0.80      0.83       171\n",
            "PotatoStarch       1.00      1.00      1.00       176\n",
            "  RiceStarch       0.98      1.00      0.99       194\n",
            "       Sugar       1.00      1.00      1.00       174\n",
            " WheatStarch       0.83      0.89      0.86       178\n",
            "\n",
            "    accuracy                           0.96      1440\n",
            "   macro avg       0.96      0.96      0.96      1440\n",
            "weighted avg       0.96      0.96      0.96      1440\n",
            "\n",
            "\n"
          ],
          "name": "stdout"
        }
      ]
    },
    {
      "cell_type": "code",
      "metadata": {
        "id": "orT73hZ3iSq5",
        "colab_type": "code",
        "colab": {
          "base_uri": "https://localhost:8080/",
          "height": 170
        },
        "outputId": "49a7ae9a-7de8-4f0e-d010-73210c006843"
      },
      "source": [
        "\n",
        "print('Confusion Matrix')\n",
        "print(confusion_matrix(y_pred,y_true))"
      ],
      "execution_count": 46,
      "outputs": [
        {
          "output_type": "stream",
          "text": [
            "Confusion Matrix\n",
            "[[179   0   6   0   0   0   0   0]\n",
            " [  0 182   0   0   0   0   0   0]\n",
            " [  0   0 180   0   0   0   0   0]\n",
            " [  0   0   0 136   0   0   0  20]\n",
            " [  0   0   0   0 176   0   0   0]\n",
            " [  0   0   0   3   0 194   0   0]\n",
            " [  0   0   0   0   0   0 174   0]\n",
            " [  0   0   0  32   0   0   0 158]]\n"
          ],
          "name": "stdout"
        }
      ]
    },
    {
      "cell_type": "markdown",
      "metadata": {
        "id": "PTqFhxXpenIY",
        "colab_type": "text"
      },
      "source": [
        "# Create Model"
      ]
    },
    {
      "cell_type": "code",
      "metadata": {
        "id": "ZzG-9tMXHkBG",
        "colab_type": "code",
        "colab": {}
      },
      "source": [
        "def baseline_model():\n",
        "  #create model\n",
        "  model= Sequential()\n",
        "  model.add(Dense(8, input_dim=702, activation = 'relu'))\n",
        "  model.add(Dense(8, activation='softmax'))\n",
        "  #compile model\n",
        "  with tf.device('/GPU:0'):\n",
        "    model.compile(loss='categorical_crossentropy', optimizer=optimizers.RMSprop(lr=1e-4), metrics=['acc'])\n",
        "  return model"
      ],
      "execution_count": 0,
      "outputs": []
    },
    {
      "cell_type": "markdown",
      "metadata": {
        "id": "dkvpRjdwesZg",
        "colab_type": "text"
      },
      "source": [
        "# Train Model"
      ]
    },
    {
      "cell_type": "code",
      "metadata": {
        "id": "s-jyTui8quVx",
        "colab_type": "code",
        "outputId": "3f1fac8b-8b25-4e5f-a84f-c8f02a898e75",
        "colab": {
          "base_uri": "https://localhost:8080/",
          "height": 1000
        }
      },
      "source": [
        "# Compile the model\n",
        "model = baseline_model()\n",
        "model.summary()\n",
        "\n",
        "with tf.device('/GPU:0'):\n",
        "  model.compile(loss='categorical_crossentropy',\n",
        "               optimizer=optimizers.RMSprop(lr=1e-4), \n",
        "               metrics=['acc'])\n",
        "\n",
        "# Train the Model\n",
        "with tf.device('/GPU:0'):\n",
        "  history = model.fit(x=X_train, \n",
        "                      y=dummy_y, \n",
        "                      validation_data = (X_test,dummy_y_test),\n",
        "                      batch_size=30, \n",
        "                      epochs=200, \n",
        "                      verbose=1\n",
        "                      )\n",
        "\n",
        "# Save the Model\n",
        "#model.save('/content/drive/My Drive/artigianale.h5')\n",
        "\n",
        "# Plot the accuracy and loss curves\n",
        "acc = history.history['acc']\n",
        "#val_acc = history.history['val_acc']\n",
        "loss = history.history['loss']\n",
        "#val_loss = history.history['val_loss']\n",
        "\n",
        "epochs = range(len(acc))\n",
        "\n",
        "plt.plot(epochs, acc, 'b', label='Training acc')\n",
        "#plt.plot(epochs, val_acc, 'r', label='Validation acc')\n",
        "plt.title('Training and validation accuracy')\n",
        "plt.legend()\n",
        "\n",
        "plt.figure()\n",
        "\n",
        "plt.plot(epochs, loss, 'b', label='Training loss')\n",
        "#plt.plot(epochs, val_loss, 'r', label='Validation loss')\n",
        "plt.title('Training and validation loss')\n",
        "plt.legend()\n",
        "\n",
        "plt.show()\n",
        "\n",
        "\n"
      ],
      "execution_count": 0,
      "outputs": [
        {
          "output_type": "stream",
          "text": [
            "WARNING:tensorflow:From /usr/local/lib/python3.6/dist-packages/keras/backend/tensorflow_backend.py:66: The name tf.get_default_graph is deprecated. Please use tf.compat.v1.get_default_graph instead.\n",
            "\n",
            "WARNING:tensorflow:From /usr/local/lib/python3.6/dist-packages/keras/backend/tensorflow_backend.py:541: The name tf.placeholder is deprecated. Please use tf.compat.v1.placeholder instead.\n",
            "\n",
            "WARNING:tensorflow:From /usr/local/lib/python3.6/dist-packages/keras/backend/tensorflow_backend.py:4432: The name tf.random_uniform is deprecated. Please use tf.random.uniform instead.\n",
            "\n",
            "Model: \"sequential_1\"\n",
            "_________________________________________________________________\n",
            "Layer (type)                 Output Shape              Param #   \n",
            "=================================================================\n",
            "dense_1 (Dense)              (None, 8)                 5624      \n",
            "_________________________________________________________________\n",
            "dense_2 (Dense)              (None, 8)                 72        \n",
            "=================================================================\n",
            "Total params: 5,696\n",
            "Trainable params: 5,696\n",
            "Non-trainable params: 0\n",
            "_________________________________________________________________\n",
            "WARNING:tensorflow:From /usr/local/lib/python3.6/dist-packages/keras/optimizers.py:793: The name tf.train.Optimizer is deprecated. Please use tf.compat.v1.train.Optimizer instead.\n",
            "\n",
            "WARNING:tensorflow:From /usr/local/lib/python3.6/dist-packages/keras/backend/tensorflow_backend.py:3576: The name tf.log is deprecated. Please use tf.math.log instead.\n",
            "\n",
            "WARNING:tensorflow:From /usr/local/lib/python3.6/dist-packages/tensorflow_core/python/ops/math_grad.py:1424: where (from tensorflow.python.ops.array_ops) is deprecated and will be removed in a future version.\n",
            "Instructions for updating:\n",
            "Use tf.where in 2.0, which has the same broadcast rule as np.where\n",
            "WARNING:tensorflow:From /usr/local/lib/python3.6/dist-packages/keras/backend/tensorflow_backend.py:1033: The name tf.assign_add is deprecated. Please use tf.compat.v1.assign_add instead.\n",
            "\n",
            "WARNING:tensorflow:From /usr/local/lib/python3.6/dist-packages/keras/backend/tensorflow_backend.py:1020: The name tf.assign is deprecated. Please use tf.compat.v1.assign instead.\n",
            "\n",
            "WARNING:tensorflow:From /usr/local/lib/python3.6/dist-packages/keras/backend/tensorflow_backend.py:3005: The name tf.Session is deprecated. Please use tf.compat.v1.Session instead.\n",
            "\n",
            "Train on 5760 samples, validate on 1440 samples\n",
            "Epoch 1/200\n",
            "WARNING:tensorflow:From /usr/local/lib/python3.6/dist-packages/keras/backend/tensorflow_backend.py:190: The name tf.get_default_session is deprecated. Please use tf.compat.v1.get_default_session instead.\n",
            "\n",
            "WARNING:tensorflow:From /usr/local/lib/python3.6/dist-packages/keras/backend/tensorflow_backend.py:197: The name tf.ConfigProto is deprecated. Please use tf.compat.v1.ConfigProto instead.\n",
            "\n",
            "WARNING:tensorflow:From /usr/local/lib/python3.6/dist-packages/keras/backend/tensorflow_backend.py:207: The name tf.global_variables is deprecated. Please use tf.compat.v1.global_variables instead.\n",
            "\n",
            "WARNING:tensorflow:From /usr/local/lib/python3.6/dist-packages/keras/backend/tensorflow_backend.py:216: The name tf.is_variable_initialized is deprecated. Please use tf.compat.v1.is_variable_initialized instead.\n",
            "\n",
            "WARNING:tensorflow:From /usr/local/lib/python3.6/dist-packages/keras/backend/tensorflow_backend.py:223: The name tf.variables_initializer is deprecated. Please use tf.compat.v1.variables_initializer instead.\n",
            "\n",
            "5760/5760 [==============================] - 5s 898us/step - loss: 2.0682 - acc: 0.1503 - val_loss: 2.0266 - val_acc: 0.2208\n",
            "Epoch 2/200\n",
            "5760/5760 [==============================] - 1s 110us/step - loss: 2.0035 - acc: 0.2194 - val_loss: 1.9718 - val_acc: 0.2271\n",
            "Epoch 3/200\n",
            "5760/5760 [==============================] - 1s 96us/step - loss: 1.9520 - acc: 0.2377 - val_loss: 1.9212 - val_acc: 0.2465\n",
            "Epoch 4/200\n",
            "5760/5760 [==============================] - 1s 121us/step - loss: 1.9009 - acc: 0.2441 - val_loss: 1.8751 - val_acc: 0.2368\n",
            "Epoch 5/200\n",
            "5760/5760 [==============================] - 1s 93us/step - loss: 1.8544 - acc: 0.2436 - val_loss: 1.8281 - val_acc: 0.2479\n",
            "Epoch 6/200\n",
            "5760/5760 [==============================] - 1s 96us/step - loss: 1.8095 - acc: 0.2439 - val_loss: 1.7885 - val_acc: 0.2444\n",
            "Epoch 7/200\n",
            "5760/5760 [==============================] - 1s 97us/step - loss: 1.7665 - acc: 0.2443 - val_loss: 1.7459 - val_acc: 0.2514\n",
            "Epoch 8/200\n",
            "5760/5760 [==============================] - 1s 90us/step - loss: 1.7265 - acc: 0.2415 - val_loss: 1.7023 - val_acc: 0.2417\n",
            "Epoch 9/200\n",
            "5760/5760 [==============================] - 1s 109us/step - loss: 1.6862 - acc: 0.2354 - val_loss: 1.6641 - val_acc: 0.2285\n",
            "Epoch 10/200\n",
            "5760/5760 [==============================] - 1s 92us/step - loss: 1.6464 - acc: 0.2026 - val_loss: 1.6243 - val_acc: 0.2139\n",
            "Epoch 11/200\n",
            "5760/5760 [==============================] - 1s 92us/step - loss: 1.6083 - acc: 0.2361 - val_loss: 1.5855 - val_acc: 0.2431\n",
            "Epoch 12/200\n",
            "5760/5760 [==============================] - 1s 90us/step - loss: 1.5705 - acc: 0.2502 - val_loss: 1.5472 - val_acc: 0.2681\n",
            "Epoch 13/200\n",
            "5760/5760 [==============================] - 1s 107us/step - loss: 1.5332 - acc: 0.2720 - val_loss: 1.5103 - val_acc: 0.2993\n",
            "Epoch 14/200\n",
            "5760/5760 [==============================] - 1s 93us/step - loss: 1.4975 - acc: 0.3170 - val_loss: 1.4741 - val_acc: 0.3618\n",
            "Epoch 15/200\n",
            "5760/5760 [==============================] - 1s 94us/step - loss: 1.4627 - acc: 0.3464 - val_loss: 1.4428 - val_acc: 0.3528\n",
            "Epoch 16/200\n",
            "5760/5760 [==============================] - 1s 101us/step - loss: 1.4297 - acc: 0.3340 - val_loss: 1.4105 - val_acc: 0.3542\n",
            "Epoch 17/200\n",
            "5760/5760 [==============================] - 1s 91us/step - loss: 1.3992 - acc: 0.3260 - val_loss: 1.3779 - val_acc: 0.3201\n",
            "Epoch 18/200\n",
            "5760/5760 [==============================] - 1s 98us/step - loss: 1.3697 - acc: 0.3255 - val_loss: 1.3507 - val_acc: 0.3403\n",
            "Epoch 19/200\n",
            "5760/5760 [==============================] - 1s 103us/step - loss: 1.3419 - acc: 0.3345 - val_loss: 1.3223 - val_acc: 0.3382\n",
            "Epoch 20/200\n",
            "5760/5760 [==============================] - 1s 94us/step - loss: 1.3145 - acc: 0.3375 - val_loss: 1.2980 - val_acc: 0.3528\n",
            "Epoch 21/200\n",
            "5760/5760 [==============================] - 1s 91us/step - loss: 1.2889 - acc: 0.3451 - val_loss: 1.2697 - val_acc: 0.3611\n",
            "Epoch 22/200\n",
            "5760/5760 [==============================] - 1s 107us/step - loss: 1.2629 - acc: 0.3559 - val_loss: 1.2458 - val_acc: 0.3826\n",
            "Epoch 23/200\n",
            "5760/5760 [==============================] - 1s 113us/step - loss: 1.2374 - acc: 0.4040 - val_loss: 1.2204 - val_acc: 0.4097\n",
            "Epoch 24/200\n",
            "5760/5760 [==============================] - 1s 110us/step - loss: 1.2126 - acc: 0.4083 - val_loss: 1.1959 - val_acc: 0.4146\n",
            "Epoch 25/200\n",
            "5760/5760 [==============================] - 1s 93us/step - loss: 1.1892 - acc: 0.3991 - val_loss: 1.1741 - val_acc: 0.4243\n",
            "Epoch 26/200\n",
            "5760/5760 [==============================] - 1s 108us/step - loss: 1.1664 - acc: 0.3970 - val_loss: 1.1491 - val_acc: 0.3771\n",
            "Epoch 27/200\n",
            "5760/5760 [==============================] - 1s 94us/step - loss: 1.1426 - acc: 0.4132 - val_loss: 1.1267 - val_acc: 0.4188\n",
            "Epoch 28/200\n",
            "5760/5760 [==============================] - 1s 93us/step - loss: 1.1201 - acc: 0.4792 - val_loss: 1.1049 - val_acc: 0.4931\n",
            "Epoch 29/200\n",
            "5760/5760 [==============================] - 1s 89us/step - loss: 1.0978 - acc: 0.5439 - val_loss: 1.0822 - val_acc: 0.5479\n",
            "Epoch 30/200\n",
            "5760/5760 [==============================] - 1s 98us/step - loss: 1.0751 - acc: 0.5592 - val_loss: 1.0622 - val_acc: 0.5681\n",
            "Epoch 31/200\n",
            "5760/5760 [==============================] - 1s 110us/step - loss: 1.0531 - acc: 0.5764 - val_loss: 1.0412 - val_acc: 0.5722\n",
            "Epoch 32/200\n",
            "5760/5760 [==============================] - 1s 101us/step - loss: 1.0309 - acc: 0.5941 - val_loss: 1.0191 - val_acc: 0.5910\n",
            "Epoch 33/200\n",
            "5760/5760 [==============================] - 1s 102us/step - loss: 1.0095 - acc: 0.6163 - val_loss: 0.9960 - val_acc: 0.6146\n",
            "Epoch 34/200\n",
            "5760/5760 [==============================] - 1s 93us/step - loss: 0.9883 - acc: 0.6441 - val_loss: 0.9752 - val_acc: 0.6382\n",
            "Epoch 35/200\n",
            "5760/5760 [==============================] - 1s 90us/step - loss: 0.9671 - acc: 0.6720 - val_loss: 0.9558 - val_acc: 0.6618\n",
            "Epoch 36/200\n",
            "5760/5760 [==============================] - 1s 89us/step - loss: 0.9471 - acc: 0.7146 - val_loss: 0.9355 - val_acc: 0.7236\n",
            "Epoch 37/200\n",
            "5760/5760 [==============================] - 1s 91us/step - loss: 0.9280 - acc: 0.7530 - val_loss: 0.9206 - val_acc: 0.6979\n",
            "Epoch 38/200\n",
            "5760/5760 [==============================] - 1s 93us/step - loss: 0.9082 - acc: 0.7816 - val_loss: 0.8977 - val_acc: 0.7625\n",
            "Epoch 39/200\n",
            "5760/5760 [==============================] - 1s 96us/step - loss: 0.8884 - acc: 0.7917 - val_loss: 0.8789 - val_acc: 0.7958\n",
            "Epoch 40/200\n",
            "5760/5760 [==============================] - 1s 124us/step - loss: 0.8701 - acc: 0.8033 - val_loss: 0.8616 - val_acc: 0.7979\n",
            "Epoch 41/200\n",
            "5760/5760 [==============================] - 1s 106us/step - loss: 0.8521 - acc: 0.8158 - val_loss: 0.8416 - val_acc: 0.8062\n",
            "Epoch 42/200\n",
            "5760/5760 [==============================] - 1s 92us/step - loss: 0.8333 - acc: 0.8194 - val_loss: 0.8238 - val_acc: 0.8118\n",
            "Epoch 43/200\n",
            "5760/5760 [==============================] - 1s 96us/step - loss: 0.8154 - acc: 0.8255 - val_loss: 0.8060 - val_acc: 0.8139\n",
            "Epoch 44/200\n",
            "5760/5760 [==============================] - 1s 102us/step - loss: 0.7978 - acc: 0.8326 - val_loss: 0.7907 - val_acc: 0.8062\n",
            "Epoch 45/200\n",
            "5760/5760 [==============================] - 1s 88us/step - loss: 0.7809 - acc: 0.8292 - val_loss: 0.7731 - val_acc: 0.8167\n",
            "Epoch 46/200\n",
            "5760/5760 [==============================] - 1s 103us/step - loss: 0.7643 - acc: 0.8328 - val_loss: 0.7586 - val_acc: 0.8222\n",
            "Epoch 47/200\n",
            "5760/5760 [==============================] - 1s 123us/step - loss: 0.7476 - acc: 0.8411 - val_loss: 0.7400 - val_acc: 0.8174\n",
            "Epoch 48/200\n",
            "5760/5760 [==============================] - 1s 95us/step - loss: 0.7316 - acc: 0.8424 - val_loss: 0.7262 - val_acc: 0.8312\n",
            "Epoch 49/200\n",
            "5760/5760 [==============================] - 1s 92us/step - loss: 0.7166 - acc: 0.8392 - val_loss: 0.7103 - val_acc: 0.8278\n",
            "Epoch 50/200\n",
            "5760/5760 [==============================] - 1s 93us/step - loss: 0.7010 - acc: 0.8382 - val_loss: 0.6957 - val_acc: 0.8285\n",
            "Epoch 51/200\n",
            "5760/5760 [==============================] - 1s 92us/step - loss: 0.6861 - acc: 0.8446 - val_loss: 0.6827 - val_acc: 0.8403\n",
            "Epoch 52/200\n",
            "5760/5760 [==============================] - 1s 101us/step - loss: 0.6720 - acc: 0.8519 - val_loss: 0.6677 - val_acc: 0.8479\n",
            "Epoch 53/200\n",
            "5760/5760 [==============================] - 1s 87us/step - loss: 0.6570 - acc: 0.8616 - val_loss: 0.6519 - val_acc: 0.8403\n",
            "Epoch 54/200\n",
            "5760/5760 [==============================] - 1s 93us/step - loss: 0.6427 - acc: 0.8604 - val_loss: 0.6392 - val_acc: 0.8437\n",
            "Epoch 55/200\n",
            "5760/5760 [==============================] - 1s 88us/step - loss: 0.6289 - acc: 0.8526 - val_loss: 0.6253 - val_acc: 0.8340\n",
            "Epoch 56/200\n",
            "5760/5760 [==============================] - 1s 112us/step - loss: 0.6152 - acc: 0.8512 - val_loss: 0.6121 - val_acc: 0.8424\n",
            "Epoch 57/200\n",
            "5760/5760 [==============================] - 1s 121us/step - loss: 0.6019 - acc: 0.8622 - val_loss: 0.6002 - val_acc: 0.8431\n",
            "Epoch 58/200\n",
            "5760/5760 [==============================] - 1s 100us/step - loss: 0.5897 - acc: 0.8564 - val_loss: 0.5871 - val_acc: 0.8472\n",
            "Epoch 59/200\n",
            "5760/5760 [==============================] - 1s 98us/step - loss: 0.5773 - acc: 0.8635 - val_loss: 0.5755 - val_acc: 0.8479\n",
            "Epoch 60/200\n",
            "5760/5760 [==============================] - 1s 90us/step - loss: 0.5652 - acc: 0.8554 - val_loss: 0.5642 - val_acc: 0.8556\n",
            "Epoch 61/200\n",
            "5760/5760 [==============================] - 1s 94us/step - loss: 0.5536 - acc: 0.8703 - val_loss: 0.5543 - val_acc: 0.8583\n",
            "Epoch 62/200\n",
            "5760/5760 [==============================] - 1s 87us/step - loss: 0.5421 - acc: 0.8655 - val_loss: 0.5426 - val_acc: 0.8646\n",
            "Epoch 63/200\n",
            "5760/5760 [==============================] - 1s 100us/step - loss: 0.5311 - acc: 0.8677 - val_loss: 0.5325 - val_acc: 0.8528\n",
            "Epoch 64/200\n",
            "5760/5760 [==============================] - 1s 116us/step - loss: 0.5203 - acc: 0.8726 - val_loss: 0.5210 - val_acc: 0.8604\n",
            "Epoch 65/200\n",
            "5760/5760 [==============================] - 1s 99us/step - loss: 0.5098 - acc: 0.8790 - val_loss: 0.5112 - val_acc: 0.8653\n",
            "Epoch 66/200\n",
            "5760/5760 [==============================] - 1s 95us/step - loss: 0.4999 - acc: 0.8698 - val_loss: 0.5015 - val_acc: 0.8646\n",
            "Epoch 67/200\n",
            "5760/5760 [==============================] - 1s 98us/step - loss: 0.4898 - acc: 0.8786 - val_loss: 0.4920 - val_acc: 0.8653\n",
            "Epoch 68/200\n",
            "5760/5760 [==============================] - 1s 96us/step - loss: 0.4807 - acc: 0.8774 - val_loss: 0.4857 - val_acc: 0.8708\n",
            "Epoch 69/200\n",
            "5760/5760 [==============================] - 1s 94us/step - loss: 0.4717 - acc: 0.8734 - val_loss: 0.4779 - val_acc: 0.8812\n",
            "Epoch 70/200\n",
            "5760/5760 [==============================] - 1s 98us/step - loss: 0.4630 - acc: 0.8830 - val_loss: 0.4672 - val_acc: 0.8639\n",
            "Epoch 71/200\n",
            "5760/5760 [==============================] - 1s 92us/step - loss: 0.4549 - acc: 0.8835 - val_loss: 0.4598 - val_acc: 0.8715\n",
            "Epoch 72/200\n",
            "5760/5760 [==============================] - 1s 92us/step - loss: 0.4468 - acc: 0.8762 - val_loss: 0.4521 - val_acc: 0.8799\n",
            "Epoch 73/200\n",
            "5760/5760 [==============================] - 1s 103us/step - loss: 0.4394 - acc: 0.8788 - val_loss: 0.4438 - val_acc: 0.8792\n",
            "Epoch 74/200\n",
            "5760/5760 [==============================] - 1s 106us/step - loss: 0.4317 - acc: 0.8977 - val_loss: 0.4374 - val_acc: 0.8729\n",
            "Epoch 75/200\n",
            "5760/5760 [==============================] - 1s 121us/step - loss: 0.4242 - acc: 0.8826 - val_loss: 0.4301 - val_acc: 0.8743\n",
            "Epoch 76/200\n",
            "5760/5760 [==============================] - 1s 93us/step - loss: 0.4175 - acc: 0.8840 - val_loss: 0.4226 - val_acc: 0.8757\n",
            "Epoch 77/200\n",
            "5760/5760 [==============================] - 1s 107us/step - loss: 0.4107 - acc: 0.8825 - val_loss: 0.4189 - val_acc: 0.8819\n",
            "Epoch 78/200\n",
            "5760/5760 [==============================] - 1s 108us/step - loss: 0.4043 - acc: 0.8852 - val_loss: 0.4120 - val_acc: 0.8840\n",
            "Epoch 79/200\n",
            "5760/5760 [==============================] - 1s 95us/step - loss: 0.3982 - acc: 0.8908 - val_loss: 0.4041 - val_acc: 0.8764\n",
            "Epoch 80/200\n",
            "5760/5760 [==============================] - 1s 96us/step - loss: 0.3919 - acc: 0.8918 - val_loss: 0.3980 - val_acc: 0.8785\n",
            "Epoch 81/200\n",
            "5760/5760 [==============================] - 1s 93us/step - loss: 0.3867 - acc: 0.8854 - val_loss: 0.3937 - val_acc: 0.8931\n",
            "Epoch 82/200\n",
            "5760/5760 [==============================] - 1s 120us/step - loss: 0.3809 - acc: 0.8997 - val_loss: 0.3882 - val_acc: 0.8910\n",
            "Epoch 83/200\n",
            "5760/5760 [==============================] - 1s 92us/step - loss: 0.3757 - acc: 0.9047 - val_loss: 0.3866 - val_acc: 0.9028\n",
            "Epoch 84/200\n",
            "5760/5760 [==============================] - 1s 93us/step - loss: 0.3701 - acc: 0.8941 - val_loss: 0.3770 - val_acc: 0.8896\n",
            "Epoch 85/200\n",
            "5760/5760 [==============================] - 1s 107us/step - loss: 0.3651 - acc: 0.8995 - val_loss: 0.3723 - val_acc: 0.8924\n",
            "Epoch 86/200\n",
            "5760/5760 [==============================] - 1s 102us/step - loss: 0.3604 - acc: 0.9036 - val_loss: 0.3679 - val_acc: 0.8944\n",
            "Epoch 87/200\n",
            "5760/5760 [==============================] - 1s 94us/step - loss: 0.3558 - acc: 0.9003 - val_loss: 0.3628 - val_acc: 0.9104\n",
            "Epoch 88/200\n",
            "5760/5760 [==============================] - 1s 89us/step - loss: 0.3513 - acc: 0.9066 - val_loss: 0.3634 - val_acc: 0.8944\n",
            "Epoch 89/200\n",
            "5760/5760 [==============================] - 1s 95us/step - loss: 0.3465 - acc: 0.9122 - val_loss: 0.3563 - val_acc: 0.8917\n",
            "Epoch 90/200\n",
            "5760/5760 [==============================] - 1s 90us/step - loss: 0.3422 - acc: 0.9118 - val_loss: 0.3511 - val_acc: 0.8986\n",
            "Epoch 91/200\n",
            "5760/5760 [==============================] - 1s 94us/step - loss: 0.3381 - acc: 0.9080 - val_loss: 0.3478 - val_acc: 0.9042\n",
            "Epoch 92/200\n",
            "5760/5760 [==============================] - 1s 89us/step - loss: 0.3338 - acc: 0.9123 - val_loss: 0.3420 - val_acc: 0.9187\n",
            "Epoch 93/200\n",
            "5760/5760 [==============================] - 1s 95us/step - loss: 0.3297 - acc: 0.9132 - val_loss: 0.3383 - val_acc: 0.9125\n",
            "Epoch 94/200\n",
            "5760/5760 [==============================] - 1s 88us/step - loss: 0.3257 - acc: 0.9142 - val_loss: 0.3357 - val_acc: 0.9000\n",
            "Epoch 95/200\n",
            "5760/5760 [==============================] - 1s 94us/step - loss: 0.3217 - acc: 0.9134 - val_loss: 0.3320 - val_acc: 0.9153\n",
            "Epoch 96/200\n",
            "5760/5760 [==============================] - 1s 90us/step - loss: 0.3182 - acc: 0.9099 - val_loss: 0.3279 - val_acc: 0.8972\n",
            "Epoch 97/200\n",
            "5760/5760 [==============================] - 1s 118us/step - loss: 0.3146 - acc: 0.9135 - val_loss: 0.3228 - val_acc: 0.9111\n",
            "Epoch 98/200\n",
            "5760/5760 [==============================] - 1s 101us/step - loss: 0.3112 - acc: 0.9111 - val_loss: 0.3200 - val_acc: 0.9056\n",
            "Epoch 99/200\n",
            "5760/5760 [==============================] - 1s 116us/step - loss: 0.3074 - acc: 0.9111 - val_loss: 0.3163 - val_acc: 0.9111\n",
            "Epoch 100/200\n",
            "5760/5760 [==============================] - 1s 99us/step - loss: 0.3044 - acc: 0.9089 - val_loss: 0.3149 - val_acc: 0.8993\n",
            "Epoch 101/200\n",
            "5760/5760 [==============================] - 1s 95us/step - loss: 0.3011 - acc: 0.9092 - val_loss: 0.3095 - val_acc: 0.9111\n",
            "Epoch 102/200\n",
            "5760/5760 [==============================] - 1s 90us/step - loss: 0.2980 - acc: 0.9078 - val_loss: 0.3076 - val_acc: 0.9000\n",
            "Epoch 103/200\n",
            "5760/5760 [==============================] - 1s 90us/step - loss: 0.2950 - acc: 0.9080 - val_loss: 0.3043 - val_acc: 0.9042\n",
            "Epoch 104/200\n",
            "5760/5760 [==============================] - 1s 105us/step - loss: 0.2917 - acc: 0.9078 - val_loss: 0.3025 - val_acc: 0.8986\n",
            "Epoch 105/200\n",
            "5760/5760 [==============================] - 1s 101us/step - loss: 0.2881 - acc: 0.9090 - val_loss: 0.3053 - val_acc: 0.8882\n",
            "Epoch 106/200\n",
            "5760/5760 [==============================] - 1s 116us/step - loss: 0.2858 - acc: 0.9073 - val_loss: 0.2949 - val_acc: 0.9111\n",
            "Epoch 107/200\n",
            "5760/5760 [==============================] - 1s 119us/step - loss: 0.2828 - acc: 0.9085 - val_loss: 0.2959 - val_acc: 0.8910\n",
            "Epoch 108/200\n",
            "5760/5760 [==============================] - 1s 117us/step - loss: 0.2800 - acc: 0.9083 - val_loss: 0.2910 - val_acc: 0.9132\n",
            "Epoch 109/200\n",
            "5760/5760 [==============================] - 1s 113us/step - loss: 0.2773 - acc: 0.9090 - val_loss: 0.2877 - val_acc: 0.9111\n",
            "Epoch 110/200\n",
            "5760/5760 [==============================] - 1s 89us/step - loss: 0.2750 - acc: 0.9069 - val_loss: 0.2841 - val_acc: 0.9069\n",
            "Epoch 111/200\n",
            "5760/5760 [==============================] - 1s 90us/step - loss: 0.2723 - acc: 0.9083 - val_loss: 0.2836 - val_acc: 0.8958\n",
            "Epoch 112/200\n",
            "5760/5760 [==============================] - 1s 88us/step - loss: 0.2701 - acc: 0.9075 - val_loss: 0.2804 - val_acc: 0.9014\n",
            "Epoch 113/200\n",
            "5760/5760 [==============================] - 1s 118us/step - loss: 0.2673 - acc: 0.9083 - val_loss: 0.2768 - val_acc: 0.9069\n",
            "Epoch 114/200\n",
            "5760/5760 [==============================] - 1s 107us/step - loss: 0.2652 - acc: 0.9073 - val_loss: 0.2760 - val_acc: 0.9090\n",
            "Epoch 115/200\n",
            "5760/5760 [==============================] - 1s 92us/step - loss: 0.2626 - acc: 0.9095 - val_loss: 0.2751 - val_acc: 0.9007\n",
            "Epoch 116/200\n",
            "5760/5760 [==============================] - 1s 99us/step - loss: 0.2605 - acc: 0.9089 - val_loss: 0.2717 - val_acc: 0.9021\n",
            "Epoch 117/200\n",
            "5760/5760 [==============================] - 1s 114us/step - loss: 0.2584 - acc: 0.9097 - val_loss: 0.2679 - val_acc: 0.9111\n",
            "Epoch 118/200\n",
            "5760/5760 [==============================] - 1s 102us/step - loss: 0.2563 - acc: 0.9092 - val_loss: 0.2658 - val_acc: 0.9118\n",
            "Epoch 119/200\n",
            "5760/5760 [==============================] - 1s 95us/step - loss: 0.2540 - acc: 0.9120 - val_loss: 0.2697 - val_acc: 0.9014\n",
            "Epoch 120/200\n",
            "5760/5760 [==============================] - 1s 107us/step - loss: 0.2522 - acc: 0.9080 - val_loss: 0.2618 - val_acc: 0.9111\n",
            "Epoch 121/200\n",
            "5760/5760 [==============================] - 1s 94us/step - loss: 0.2505 - acc: 0.9102 - val_loss: 0.2594 - val_acc: 0.9111\n",
            "Epoch 122/200\n",
            "5760/5760 [==============================] - 1s 108us/step - loss: 0.2481 - acc: 0.9104 - val_loss: 0.2582 - val_acc: 0.9083\n",
            "Epoch 123/200\n",
            "5760/5760 [==============================] - 1s 90us/step - loss: 0.2463 - acc: 0.9102 - val_loss: 0.2566 - val_acc: 0.9111\n",
            "Epoch 124/200\n",
            "5760/5760 [==============================] - 1s 88us/step - loss: 0.2448 - acc: 0.9094 - val_loss: 0.2541 - val_acc: 0.9097\n",
            "Epoch 125/200\n",
            "5760/5760 [==============================] - 1s 98us/step - loss: 0.2428 - acc: 0.9123 - val_loss: 0.2546 - val_acc: 0.9076\n",
            "Epoch 126/200\n",
            "5760/5760 [==============================] - 1s 88us/step - loss: 0.2404 - acc: 0.9125 - val_loss: 0.2503 - val_acc: 0.9125\n",
            "Epoch 127/200\n",
            "5760/5760 [==============================] - 1s 96us/step - loss: 0.2389 - acc: 0.9144 - val_loss: 0.2519 - val_acc: 0.9056\n",
            "Epoch 128/200\n",
            "5760/5760 [==============================] - 1s 99us/step - loss: 0.2374 - acc: 0.9109 - val_loss: 0.2484 - val_acc: 0.9035\n",
            "Epoch 129/200\n",
            "5760/5760 [==============================] - 1s 93us/step - loss: 0.2356 - acc: 0.9099 - val_loss: 0.2472 - val_acc: 0.9083\n",
            "Epoch 130/200\n",
            "5760/5760 [==============================] - 1s 91us/step - loss: 0.2340 - acc: 0.9116 - val_loss: 0.2452 - val_acc: 0.9104\n",
            "Epoch 131/200\n",
            "5760/5760 [==============================] - 1s 99us/step - loss: 0.2324 - acc: 0.9127 - val_loss: 0.2417 - val_acc: 0.9111\n",
            "Epoch 132/200\n",
            "5760/5760 [==============================] - 1s 112us/step - loss: 0.2308 - acc: 0.9116 - val_loss: 0.2408 - val_acc: 0.9139\n",
            "Epoch 133/200\n",
            "5760/5760 [==============================] - 1s 92us/step - loss: 0.2293 - acc: 0.9139 - val_loss: 0.2397 - val_acc: 0.9125\n",
            "Epoch 134/200\n",
            "5760/5760 [==============================] - 1s 93us/step - loss: 0.2281 - acc: 0.9120 - val_loss: 0.2387 - val_acc: 0.9118\n",
            "Epoch 135/200\n",
            "5760/5760 [==============================] - 1s 90us/step - loss: 0.2263 - acc: 0.9153 - val_loss: 0.2378 - val_acc: 0.9021\n",
            "Epoch 136/200\n",
            "5760/5760 [==============================] - 1s 90us/step - loss: 0.2253 - acc: 0.9118 - val_loss: 0.2348 - val_acc: 0.9083\n",
            "Epoch 137/200\n",
            "5760/5760 [==============================] - 1s 103us/step - loss: 0.2233 - acc: 0.9118 - val_loss: 0.2332 - val_acc: 0.9125\n",
            "Epoch 138/200\n",
            "5760/5760 [==============================] - 1s 88us/step - loss: 0.2218 - acc: 0.9123 - val_loss: 0.2322 - val_acc: 0.9146\n",
            "Epoch 139/200\n",
            "5760/5760 [==============================] - 1s 104us/step - loss: 0.2204 - acc: 0.9167 - val_loss: 0.2314 - val_acc: 0.9111\n",
            "Epoch 140/200\n",
            "5760/5760 [==============================] - 1s 90us/step - loss: 0.2196 - acc: 0.9153 - val_loss: 0.2293 - val_acc: 0.9104\n",
            "Epoch 141/200\n",
            "5760/5760 [==============================] - 1s 113us/step - loss: 0.2181 - acc: 0.9122 - val_loss: 0.2273 - val_acc: 0.9118\n",
            "Epoch 142/200\n",
            "5760/5760 [==============================] - 1s 102us/step - loss: 0.2171 - acc: 0.9139 - val_loss: 0.2262 - val_acc: 0.9118\n",
            "Epoch 143/200\n",
            "5760/5760 [==============================] - 1s 96us/step - loss: 0.2150 - acc: 0.9156 - val_loss: 0.2254 - val_acc: 0.9146\n",
            "Epoch 144/200\n",
            "5760/5760 [==============================] - 1s 100us/step - loss: 0.2141 - acc: 0.9167 - val_loss: 0.2235 - val_acc: 0.9118\n",
            "Epoch 145/200\n",
            "5760/5760 [==============================] - 1s 93us/step - loss: 0.2127 - acc: 0.9151 - val_loss: 0.2230 - val_acc: 0.9097\n",
            "Epoch 146/200\n",
            "5760/5760 [==============================] - 1s 95us/step - loss: 0.2117 - acc: 0.9137 - val_loss: 0.2214 - val_acc: 0.9090\n",
            "Epoch 147/200\n",
            "5760/5760 [==============================] - 1s 114us/step - loss: 0.2109 - acc: 0.9156 - val_loss: 0.2208 - val_acc: 0.9104\n",
            "Epoch 148/200\n",
            "5760/5760 [==============================] - 1s 93us/step - loss: 0.2091 - acc: 0.9174 - val_loss: 0.2201 - val_acc: 0.9139\n",
            "Epoch 149/200\n",
            "5760/5760 [==============================] - 1s 93us/step - loss: 0.2083 - acc: 0.9151 - val_loss: 0.2198 - val_acc: 0.9049\n",
            "Epoch 150/200\n",
            "5760/5760 [==============================] - 1s 91us/step - loss: 0.2076 - acc: 0.9142 - val_loss: 0.2171 - val_acc: 0.9118\n",
            "Epoch 151/200\n",
            "5760/5760 [==============================] - 1s 89us/step - loss: 0.2063 - acc: 0.9161 - val_loss: 0.2157 - val_acc: 0.9118\n",
            "Epoch 152/200\n",
            "5760/5760 [==============================] - 1s 100us/step - loss: 0.2047 - acc: 0.9142 - val_loss: 0.2146 - val_acc: 0.9118\n",
            "Epoch 153/200\n",
            "5760/5760 [==============================] - 1s 94us/step - loss: 0.2039 - acc: 0.9189 - val_loss: 0.2141 - val_acc: 0.9097\n",
            "Epoch 154/200\n",
            "5760/5760 [==============================] - 1s 99us/step - loss: 0.2027 - acc: 0.9175 - val_loss: 0.2247 - val_acc: 0.8965\n",
            "Epoch 155/200\n",
            "5760/5760 [==============================] - 1s 88us/step - loss: 0.2023 - acc: 0.9181 - val_loss: 0.2115 - val_acc: 0.9118\n",
            "Epoch 156/200\n",
            "5760/5760 [==============================] - 1s 113us/step - loss: 0.2009 - acc: 0.9174 - val_loss: 0.2102 - val_acc: 0.9167\n",
            "Epoch 157/200\n",
            "5760/5760 [==============================] - 1s 111us/step - loss: 0.2003 - acc: 0.9179 - val_loss: 0.2101 - val_acc: 0.9139\n",
            "Epoch 158/200\n",
            "5760/5760 [==============================] - 1s 99us/step - loss: 0.1995 - acc: 0.9160 - val_loss: 0.2094 - val_acc: 0.9153\n",
            "Epoch 159/200\n",
            "5760/5760 [==============================] - 1s 119us/step - loss: 0.1983 - acc: 0.9179 - val_loss: 0.2085 - val_acc: 0.9083\n",
            "Epoch 160/200\n",
            "5760/5760 [==============================] - 1s 94us/step - loss: 0.1970 - acc: 0.9175 - val_loss: 0.2100 - val_acc: 0.9035\n",
            "Epoch 161/200\n",
            "5760/5760 [==============================] - 1s 116us/step - loss: 0.1968 - acc: 0.9186 - val_loss: 0.2076 - val_acc: 0.9056\n",
            "Epoch 162/200\n",
            "5760/5760 [==============================] - 1s 120us/step - loss: 0.1957 - acc: 0.9191 - val_loss: 0.2047 - val_acc: 0.9139\n",
            "Epoch 163/200\n",
            "5760/5760 [==============================] - 1s 97us/step - loss: 0.1949 - acc: 0.9160 - val_loss: 0.2060 - val_acc: 0.9174\n",
            "Epoch 164/200\n",
            "5760/5760 [==============================] - 1s 101us/step - loss: 0.1935 - acc: 0.9179 - val_loss: 0.2051 - val_acc: 0.9097\n",
            "Epoch 165/200\n",
            "5760/5760 [==============================] - 1s 89us/step - loss: 0.1930 - acc: 0.9181 - val_loss: 0.2022 - val_acc: 0.9139\n",
            "Epoch 166/200\n",
            "5760/5760 [==============================] - 1s 95us/step - loss: 0.1923 - acc: 0.9193 - val_loss: 0.2015 - val_acc: 0.9160\n",
            "Epoch 167/200\n",
            "5760/5760 [==============================] - 1s 94us/step - loss: 0.1915 - acc: 0.9181 - val_loss: 0.2014 - val_acc: 0.9125\n",
            "Epoch 168/200\n",
            "5760/5760 [==============================] - 1s 107us/step - loss: 0.1906 - acc: 0.9182 - val_loss: 0.2004 - val_acc: 0.9160\n",
            "Epoch 169/200\n",
            "5760/5760 [==============================] - 1s 115us/step - loss: 0.1899 - acc: 0.9196 - val_loss: 0.1993 - val_acc: 0.9132\n",
            "Epoch 170/200\n",
            "5760/5760 [==============================] - 1s 119us/step - loss: 0.1888 - acc: 0.9200 - val_loss: 0.1995 - val_acc: 0.9132\n",
            "Epoch 171/200\n",
            "5760/5760 [==============================] - 1s 115us/step - loss: 0.1884 - acc: 0.9198 - val_loss: 0.1982 - val_acc: 0.9187\n",
            "Epoch 172/200\n",
            "5760/5760 [==============================] - 1s 96us/step - loss: 0.1877 - acc: 0.9198 - val_loss: 0.1990 - val_acc: 0.9090\n",
            "Epoch 173/200\n",
            "5760/5760 [==============================] - 1s 105us/step - loss: 0.1871 - acc: 0.9184 - val_loss: 0.1959 - val_acc: 0.9174\n",
            "Epoch 174/200\n",
            "5760/5760 [==============================] - 1s 98us/step - loss: 0.1864 - acc: 0.9194 - val_loss: 0.1973 - val_acc: 0.9153\n",
            "Epoch 175/200\n",
            "5760/5760 [==============================] - 1s 107us/step - loss: 0.1856 - acc: 0.9189 - val_loss: 0.1949 - val_acc: 0.9194\n",
            "Epoch 176/200\n",
            "5760/5760 [==============================] - 1s 93us/step - loss: 0.1847 - acc: 0.9207 - val_loss: 0.1944 - val_acc: 0.9153\n",
            "Epoch 177/200\n",
            "5760/5760 [==============================] - 1s 101us/step - loss: 0.1844 - acc: 0.9194 - val_loss: 0.1947 - val_acc: 0.9146\n",
            "Epoch 178/200\n",
            "5760/5760 [==============================] - 1s 103us/step - loss: 0.1834 - acc: 0.9214 - val_loss: 0.1930 - val_acc: 0.9146\n",
            "Epoch 179/200\n",
            "5760/5760 [==============================] - 1s 107us/step - loss: 0.1826 - acc: 0.9217 - val_loss: 0.1918 - val_acc: 0.9160\n",
            "Epoch 180/200\n",
            "5760/5760 [==============================] - 1s 106us/step - loss: 0.1819 - acc: 0.9215 - val_loss: 0.1931 - val_acc: 0.9118\n",
            "Epoch 181/200\n",
            "5760/5760 [==============================] - 1s 91us/step - loss: 0.1815 - acc: 0.9212 - val_loss: 0.1918 - val_acc: 0.9160\n",
            "Epoch 182/200\n",
            "5760/5760 [==============================] - 1s 92us/step - loss: 0.1807 - acc: 0.9201 - val_loss: 0.1899 - val_acc: 0.9194\n",
            "Epoch 183/200\n",
            "5760/5760 [==============================] - 1s 105us/step - loss: 0.1800 - acc: 0.9212 - val_loss: 0.1891 - val_acc: 0.9201\n",
            "Epoch 184/200\n",
            "5760/5760 [==============================] - 1s 94us/step - loss: 0.1797 - acc: 0.9220 - val_loss: 0.1886 - val_acc: 0.9181\n",
            "Epoch 185/200\n",
            "5760/5760 [==============================] - 1s 90us/step - loss: 0.1789 - acc: 0.9227 - val_loss: 0.1884 - val_acc: 0.9201\n",
            "Epoch 186/200\n",
            "5760/5760 [==============================] - 1s 107us/step - loss: 0.1784 - acc: 0.9219 - val_loss: 0.1873 - val_acc: 0.9215\n",
            "Epoch 187/200\n",
            "5760/5760 [==============================] - 1s 121us/step - loss: 0.1772 - acc: 0.9227 - val_loss: 0.1868 - val_acc: 0.9208\n",
            "Epoch 188/200\n",
            "5760/5760 [==============================] - 1s 91us/step - loss: 0.1769 - acc: 0.9219 - val_loss: 0.1873 - val_acc: 0.9250\n",
            "Epoch 189/200\n",
            "5760/5760 [==============================] - 1s 92us/step - loss: 0.1767 - acc: 0.9220 - val_loss: 0.1857 - val_acc: 0.9167\n",
            "Epoch 190/200\n",
            "5760/5760 [==============================] - 1s 105us/step - loss: 0.1756 - acc: 0.9240 - val_loss: 0.1852 - val_acc: 0.9215\n",
            "Epoch 191/200\n",
            "5760/5760 [==============================] - 1s 95us/step - loss: 0.1753 - acc: 0.9234 - val_loss: 0.1899 - val_acc: 0.9083\n",
            "Epoch 192/200\n",
            "5760/5760 [==============================] - 1s 96us/step - loss: 0.1750 - acc: 0.9215 - val_loss: 0.1852 - val_acc: 0.9174\n",
            "Epoch 193/200\n",
            "5760/5760 [==============================] - 1s 110us/step - loss: 0.1745 - acc: 0.9212 - val_loss: 0.1846 - val_acc: 0.9229\n",
            "Epoch 194/200\n",
            "5760/5760 [==============================] - 1s 90us/step - loss: 0.1741 - acc: 0.9219 - val_loss: 0.1837 - val_acc: 0.9174\n",
            "Epoch 195/200\n",
            "5760/5760 [==============================] - 1s 111us/step - loss: 0.1734 - acc: 0.9226 - val_loss: 0.1869 - val_acc: 0.9083\n",
            "Epoch 196/200\n",
            "5760/5760 [==============================] - 1s 110us/step - loss: 0.1729 - acc: 0.9231 - val_loss: 0.1863 - val_acc: 0.9111\n",
            "Epoch 197/200\n",
            "5760/5760 [==============================] - 1s 121us/step - loss: 0.1721 - acc: 0.9250 - val_loss: 0.1824 - val_acc: 0.9250\n",
            "Epoch 198/200\n",
            "5760/5760 [==============================] - 1s 94us/step - loss: 0.1718 - acc: 0.9227 - val_loss: 0.1812 - val_acc: 0.9194\n",
            "Epoch 199/200\n",
            "5760/5760 [==============================] - 1s 103us/step - loss: 0.1716 - acc: 0.9229 - val_loss: 0.1803 - val_acc: 0.9201\n",
            "Epoch 200/200\n",
            "5760/5760 [==============================] - 1s 119us/step - loss: 0.1709 - acc: 0.9247 - val_loss: 0.1796 - val_acc: 0.9222\n"
          ],
          "name": "stdout"
        },
        {
          "output_type": "display_data",
          "data": {
            "image/png": "[encoded data removed]",
            "text/plain": [
              "<Figure size 432x288 with 1 Axes>"
            ]
          },
          "metadata": {
            "tags": []
          }
        },
        {
          "output_type": "display_data",
          "data": {
            "image/png": "[encoded data removed]",
            "text/plain": [
              "<Figure size 432x288 with 1 Axes>"
            ]
          },
          "metadata": {
            "tags": []
          }
        }
      ]
    },
    {
      "cell_type": "markdown",
      "metadata": {
        "id": "sxtxB4I_ex2t",
        "colab_type": "text"
      },
      "source": [
        "# Evaluate Model"
      ]
    },
    {
      "cell_type": "code",
      "metadata": {
        "id": "VwHcUsQfAqsL",
        "colab_type": "code",
        "outputId": "4beb796c-38db-44ff-8e4d-48c4118cd06b",
        "colab": {
          "base_uri": "https://localhost:8080/",
          "height": 197
        }
      },
      "source": [
        "print(model.evaluate_generator(generator = X_train, verbose=1))\n",
        "print(model.evaluate_generator(generator = validation_generator, verbose=1))\n",
        "print(model.evaluate_generator(generator = test_generator, verbose=1))"
      ],
      "execution_count": 0,
      "outputs": [
        {
          "output_type": "error",
          "ename": "NameError",
          "evalue": "ignored",
          "traceback": [
            "\u001b[0;31m---------------------------------------------------------------------------\u001b[0m",
            "\u001b[0;31mNameError\u001b[0m                                 Traceback (most recent call last)",
            "\u001b[0;32m<ipython-input-19-28468ef4924d>\u001b[0m in \u001b[0;36m<module>\u001b[0;34m()\u001b[0m\n\u001b[0;32m----> 1\u001b[0;31m \u001b[0mprint\u001b[0m\u001b[0;34m(\u001b[0m\u001b[0mmodel\u001b[0m\u001b[0;34m.\u001b[0m\u001b[0mevaluate_generator\u001b[0m\u001b[0;34m(\u001b[0m\u001b[0mgenerator\u001b[0m \u001b[0;34m=\u001b[0m \u001b[0mX_train\u001b[0m\u001b[0;34m,\u001b[0m \u001b[0msteps\u001b[0m\u001b[0;34m=\u001b[0m\u001b[0mlen\u001b[0m\u001b[0;34m(\u001b[0m\u001b[0mgenerator\u001b[0m\u001b[0;34m)\u001b[0m\u001b[0;34m,\u001b[0m \u001b[0mverbose\u001b[0m\u001b[0;34m=\u001b[0m\u001b[0;36m1\u001b[0m\u001b[0;34m)\u001b[0m\u001b[0;34m)\u001b[0m\u001b[0;34m\u001b[0m\u001b[0;34m\u001b[0m\u001b[0m\n\u001b[0m\u001b[1;32m      2\u001b[0m \u001b[0mprint\u001b[0m\u001b[0;34m(\u001b[0m\u001b[0mmodel\u001b[0m\u001b[0;34m.\u001b[0m\u001b[0mevaluate_generator\u001b[0m\u001b[0;34m(\u001b[0m\u001b[0mgenerator\u001b[0m \u001b[0;34m=\u001b[0m \u001b[0mvalidation_generator\u001b[0m\u001b[0;34m,\u001b[0m \u001b[0mverbose\u001b[0m\u001b[0;34m=\u001b[0m\u001b[0;36m1\u001b[0m\u001b[0;34m)\u001b[0m\u001b[0;34m)\u001b[0m\u001b[0;34m\u001b[0m\u001b[0;34m\u001b[0m\u001b[0m\n\u001b[1;32m      3\u001b[0m \u001b[0mprint\u001b[0m\u001b[0;34m(\u001b[0m\u001b[0mmodel\u001b[0m\u001b[0;34m.\u001b[0m\u001b[0mevaluate_generator\u001b[0m\u001b[0;34m(\u001b[0m\u001b[0mgenerator\u001b[0m \u001b[0;34m=\u001b[0m \u001b[0mtest_generator\u001b[0m\u001b[0;34m,\u001b[0m \u001b[0mverbose\u001b[0m\u001b[0;34m=\u001b[0m\u001b[0;36m1\u001b[0m\u001b[0;34m)\u001b[0m\u001b[0;34m)\u001b[0m\u001b[0;34m\u001b[0m\u001b[0;34m\u001b[0m\u001b[0m\n",
            "\u001b[0;31mNameError\u001b[0m: name 'generator' is not defined"
          ]
        }
      ]
    },
    {
      "cell_type": "markdown",
      "metadata": {
        "id": "peTtyk1Qe4ch",
        "colab_type": "text"
      },
      "source": [
        "# Test Model"
      ]
    },
    {
      "cell_type": "code",
      "metadata": {
        "id": "t7-r_Nc69VqE",
        "colab_type": "code",
        "outputId": "701a2ea9-d424-4a0e-efa4-d754c5bb106d",
        "colab": {
          "base_uri": "https://localhost:8080/",
          "height": 68
        }
      },
      "source": [
        "\n",
        "y_pred = model.predict(X_test)\n",
        "predicted_classes = np.argmax(y_pred ,axis=1)\n",
        "print(y_test.shape)\n",
        "print(y_pred.shape)\n",
        "print(predicted_classes.shape)"
      ],
      "execution_count": 0,
      "outputs": [
        {
          "output_type": "stream",
          "text": [
            "(1440,)\n",
            "(1440, 8)\n",
            "(1440,)\n"
          ],
          "name": "stdout"
        }
      ]
    },
    {
      "cell_type": "code",
      "metadata": {
        "id": "Cm_BmSTPS-yj",
        "colab_type": "code",
        "colab": {}
      },
      "source": [
        "from keras.preprocessing import image\n",
        "from sklearn.metrics import classification_report, confusion_matrix\n",
        "\n",
        "\n",
        "\n",
        "# Get the filenames from the generator\n",
        "\n",
        "# Get the ground truth from generator\n",
        "ground_truth = dummy_y_test\n",
        "\n",
        "\n",
        "\n",
        "# Get the predictions from the model using the generator\n",
        "\n",
        "\n",
        "errors = np.where(predicted_classes != ground_truth)[0]\n",
        "print(\"No of errors = {}/{}\".format(len(errors),len(X_test)))\n",
        "\n",
        "\n",
        "print('Confusion Matrix')\n",
        "print(confusion_matrix(y_pred.argmax(axis=1),predicted_classes))\n",
        "print('Classification Report')\n",
        "target_names = numpy.unique(Y)\n",
        "print(classification_report(y_pred.argmax(axis=1),predicted_classes, target_names=target_names))\n"
      ],
      "execution_count": 0,
      "outputs": []
    },
    {
      "cell_type": "code",
      "metadata": {
        "id": "3E4uy8bASXOj",
        "colab_type": "code",
        "colab": {}
      },
      "source": [
        "\n",
        "\n",
        "estimator = KerasClassifier(build_fn=baseline_model, epochs=150, batch_size=10, verbose=0)"
      ],
      "execution_count": 0,
      "outputs": []
    },
    {
      "cell_type": "markdown",
      "metadata": {
        "id": "5ja0kYZde-yg",
        "colab_type": "text"
      },
      "source": [
        "# K-fold Validation"
      ]
    },
    {
      "cell_type": "code",
      "metadata": {
        "id": "H-FHaZFfSbwN",
        "colab_type": "code",
        "colab": {}
      },
      "source": [
        "kfold = KFold(n_splits=5, shuffle=True)"
      ],
      "execution_count": 0,
      "outputs": []
    },
    {
      "cell_type": "code",
      "metadata": {
        "id": "fun65ausSfQa",
        "colab_type": "code",
        "outputId": "52fea59d-55f1-43d0-c0a7-46d54d52fcf3",
        "colab": {
          "base_uri": "https://localhost:8080/",
          "height": 34
        }
      },
      "source": [
        "results = cross_val_score(estimator, X, Y, cv=kfold)\n",
        "print(\"Baseline: %.2f%% (%.2f%%)\" % (results.mean()*100, results.std()*100))"
      ],
      "execution_count": 0,
      "outputs": [
        {
          "output_type": "stream",
          "text": [
            "Baseline: 87.97% (5.53%)\n"
          ],
          "name": "stdout"
        }
      ]
    },
    {
      "cell_type": "code",
      "metadata": {
        "id": "dHSWjDZTZDxI",
        "colab_type": "code",
        "outputId": "701859d2-3338-4469-b485-9acbb71b7716",
        "colab": {
          "base_uri": "https://localhost:8080/",
          "height": 34
        }
      },
      "source": [
        "results[1]"
      ],
      "execution_count": 0,
      "outputs": [
        {
          "output_type": "execute_result",
          "data": {
            "text/plain": [
              "0.8340277780985667"
            ]
          },
          "metadata": {
            "tags": []
          },
          "execution_count": 83
        }
      ]
    },
    {
      "cell_type": "code",
      "metadata": {
        "id": "Qf_Xi20OO8OW",
        "colab_type": "code",
        "colab": {}
      },
      "source": [
        ""
      ],
      "execution_count": 0,
      "outputs": []
    }
  ]
}